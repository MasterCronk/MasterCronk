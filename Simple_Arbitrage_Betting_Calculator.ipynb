{
  "nbformat": 4,
  "nbformat_minor": 0,
  "metadata": {
    "colab": {
      "provenance": [],
      "authorship_tag": "ABX9TyPx9Eqv5aARTJBwSinBEzCe",
      "include_colab_link": true
    },
    "kernelspec": {
      "name": "python3",
      "display_name": "Python 3"
    },
    "language_info": {
      "name": "python"
    }
  },
  "cells": [
    {
      "cell_type": "markdown",
      "metadata": {
        "id": "view-in-github",
        "colab_type": "text"
      },
      "source": [
        "<a href=\"https://colab.research.google.com/github/MasterCronk/MasterCronk/blob/main/Simple_Arbitrage_Betting_Calculator.ipynb\" target=\"_parent\"><img src=\"https://colab.research.google.com/assets/colab-badge.svg\" alt=\"Open In Colab\"/></a>"
      ]
    },
    {
      "cell_type": "markdown",
      "source": [
        "Gets the user input for the odds"
      ],
      "metadata": {
        "id": "UgnwW7oVaUan"
      }
    },
    {
      "cell_type": "code",
      "execution_count": 10,
      "metadata": {
        "colab": {
          "base_uri": "https://localhost:8080/"
        },
        "id": "4fHsAr1CXEBA",
        "outputId": "533e3b25-110d-4d64-b0c3-091ce2853d86"
      },
      "outputs": [
        {
          "name": "stdout",
          "output_type": "stream",
          "text": [
            "Betting platform 1:\n",
            "Enter team one odds: 12\n",
            "Enter draw odds: 12\n",
            "Enter team two odds: 12\n",
            "\n",
            "Betting platform 2:\n",
            "Enter team one odds: 12\n",
            "Enter draw odds: 12\n",
            "Enter team two odds: 12\n",
            "\n",
            "Betting platform 3:\n",
            "Enter team one odds: 12\n",
            "Enter draw odds: 12\n",
            "Enter team two odds: 12\n"
          ]
        }
      ],
      "source": [
        "print(\"Betting platform 1:\")\n",
        "o1 = float(input(\"Enter team one odds: \"))\n",
        "o2 = float(input(\"Enter draw odds: \"))\n",
        "o3 = float(input(\"Enter team two odds: \"))\n",
        "\n",
        "print(\"\\nBetting platform 2:\")\n",
        "o4 = float(input(\"Enter team one odds: \"))\n",
        "o5 = float(input(\"Enter draw odds: \"))\n",
        "o6 = float(input(\"Enter team two odds: \"))\n",
        "\n",
        "print(\"\\nBetting platform 3:\")\n",
        "o7 = float(input(\"Enter team one odds: \"))\n",
        "o8 = float(input(\"Enter draw odds: \"))\n",
        "o9 = float(input(\"Enter team two odds: \"))\n"
      ]
    },
    {
      "cell_type": "code",
      "source": [
        "r1 = ((1 / o1) + (1 / o2) + (1 / o3)) * 100;\n",
        "r2 = ((1 / o4) + (1 / o5) + (1 / o6)) * 100;\n",
        "r3 = ((1 / o7) + (1 / o8) + (1 / o9)) * 100;\n",
        "r4 = ((1 / o1) + (1 / o5) + (1 / o9)) * 100;\n",
        "r5 = ((1 / o3) + (1 / o5) + (1 / o7)) * 100;\n",
        "r6 = ((1 / o1) + (1 / o5) + (1 / o6)) * 100;\n",
        "r7 = ((1 / o1) + (1 / o8) + (1 / o9)) * 100;\n",
        "r8 = ((1 / o5) + (1 / o6) + (1 / o7)) * 100;\n",
        "r9 = ((1 / o2) + (1 / o3) + (1 / o7)) * 100;\n",
        "r10 = ((1 / o1) + (1 / o5) + (1 / o3)) * 100;\n",
        "r11 = ((1 / o1) + (1 / o8) + (1 / o3)) * 100;\n",
        "r12 = ((1 / o7) + (1 / o5) + (1 / o9)) * 100;\n",
        "r13 = ((1 / o7) + (1 / o2) + (1 / o9)) * 100;\n",
        "r14 = ((1 / o7) + (1 / o2) + (1 / o6)) * 100;\n",
        "r15 = ((1 / o1) + (1 / o8) + (1 / o6)) * 100;\n",
        "r16 = ((1 / o4) + (1 / o2) + (1 / o9)) * 100;\n",
        "r17 = ((1 / o4) + (1 / o8) + (1 / o6)) * 100;\n",
        "r18 = ((1 / o4) + (1 / o8) + (1 / o3)) * 100;\n",
        "r19 = ((1 / o4) + (1 / o2) + (1 / o3)) * 100;\n",
        "\n",
        "print('num\\t' + 'odd\\t' + 'odd\\t' + 'odd\\t' + 'probability\\n')\n",
        "\n",
        "if r1 < 100 :\n",
        "  print('1\\t' + str(o1) + '\\t' + str(o2) + '\\t' + str(o3) + '\\t' + str(r1) + '\\n')\n",
        "\n",
        "if r2 < 100 :\n",
        "  print('2\\t' + str(o4) + '\\t' + str(o5) + '\\t' + str(o6) + '\\t' + str(r2) + '\\n')\n",
        "\n",
        "if r3 < 100 :\n",
        "  print('3\\t' + str(o7) + '\\t' + str(o8) + '\\t' + str(o9) + '\\t' + str(r3) + '\\n')\n",
        "\n",
        "if r4 < 100 :\n",
        "  print('4\\t' + str(o1) + '\\t' + str(o5) + '\\t' + str(o9) + '\\t' + str(r4) + '\\n')\n",
        "\n",
        "if r5 < 100 :\n",
        "  print('5\\t' + str(o3) + '\\t' + str(o5) + '\\t' + str(o7) + '\\t' + str(r5) + '\\n')\n",
        "\n",
        "if r6 < 100 :\n",
        "  print('6\\t' + str(o1) + '\\t' + str(o5) + '\\t' + str(o6) + '\\t' + str(r6) + '\\n')\n",
        "\n",
        "if r7 < 100 :\n",
        "  print('7\\t' + str(o1) + '\\t' + str(o8) + '\\t' + str(o9) + '\\t' + str(r7) + '\\n')\n",
        "\n",
        "if r8 < 100 :\n",
        "  print('8\\t' + str(o5) + '\\t' + str(o6) + '\\t' + str(o7) + '\\t' + str(r8) + '\\n')\n",
        "\n",
        "if r9 < 100 :\n",
        "  print('9\\t' + str(o2) + '\\t' + str(o3) + '\\t' + str(o7) + '\\t' + str(r9) + '\\n')\n",
        "\n",
        "if r10 < 100 :\n",
        "  print('10\\t' + str(o1) + '\\t' + str(o5) + '\\t' + str(o3) + '\\t' + str(r10) + '\\n')\n",
        "\n",
        "if r11  < 100 :\n",
        "  print('11\\t' + str(o1) + '\\t' + str(o8) + '\\t' + str(o3) + '\\t' + str(r11) + '\\n')\n",
        "\n",
        "if r12 < 100 :\n",
        "  print('12\\t' + str(o7) + '\\t' + str(o5) + '\\t' + str(o9) + '\\t' + str(r12) + '\\n')\n",
        "\n",
        "if r13 < 100 :\n",
        "  print('13\\t' + str(o7) + '\\t' + str(o2) + '\\t' + str(o9) + '\\t' + str(r13) + '\\n')\n",
        "\n",
        "if r14 < 100 :\n",
        "  print('14\\t' + str(o7) + '\\t' + str(o2) + '\\t' + str(o6) + '\\t' + str(r14) + '\\n')\n",
        "\n",
        "if r15 < 100 :\n",
        "  print('15\\t' + str(o1) + '\\t' + str(o8) + '\\t' + str(o6) + '\\t' + str(r15) + '\\n')\n",
        "\n",
        "if r16 < 100 :\n",
        "  print('16\\t' + str(o4) + '\\t' + str(o2) + '\\t' + str(o9) + '\\t' + str(r16) + '\\n')\n",
        "\n",
        "if r17 < 100 :\n",
        "  print('17\\t' + str(o4) + '\\t' + str(o8) + '\\t' + str(o6) + '\\t' + str(r17) + '\\n')\n",
        "\n",
        "if r18 < 100 :\n",
        "  print('18\\t' + str(o4) + '\\t' + str(o8) + '\\t' + str(o3) + '\\t' + str(r18) + '\\n')\n",
        "\n",
        "if r19 < 100 :\n",
        "  print('19\\t' + str(o4) + '\\t' + str(o2) + '\\t' + str(o3) + '\\t' + str(r19) + '\\n')\n",
        ""
      ],
      "metadata": {
        "colab": {
          "base_uri": "https://localhost:8080/"
        },
        "id": "Ynu4WlQZaa-A",
        "outputId": "ecbe59b1-361f-4940-b610-aba9105a1b67"
      },
      "execution_count": 15,
      "outputs": [
        {
          "output_type": "stream",
          "name": "stdout",
          "text": [
            "num\todd\todd\todd\tprobability\n",
            "\n",
            "1\t12.0\t12.0\t12.0\t25.0\n",
            "\n",
            "2\t12.0\t12.0\t12.0\t25.0\n",
            "\n",
            "3\t12.0\t12.0\t12.0\t25.0\n",
            "\n",
            "4\t12.0\t12.0\t12.0\t25.0\n",
            "\n",
            "5\t12.0\t12.0\t12.0\t25.0\n",
            "\n",
            "6\t12.0\t12.0\t12.0\t25.0\n",
            "\n",
            "7\t12.0\t12.0\t12.0\t25.0\n",
            "\n",
            "8\t12.0\t12.0\t12.0\t25.0\n",
            "\n",
            "9\t12.0\t12.0\t12.0\t25.0\n",
            "\n",
            "10\t12.0\t12.0\t12.0\t25.0\n",
            "\n",
            "11\t12.0\t12.0\t12.0\t25.0\n",
            "\n",
            "12\t12.0\t12.0\t12.0\t25.0\n",
            "\n",
            "13\t12.0\t12.0\t12.0\t25.0\n",
            "\n",
            "14\t12.0\t12.0\t12.0\t25.0\n",
            "\n",
            "15\t12.0\t12.0\t12.0\t25.0\n",
            "\n",
            "16\t12.0\t12.0\t12.0\t25.0\n",
            "\n",
            "17\t12.0\t12.0\t12.0\t25.0\n",
            "\n",
            "18\t12.0\t12.0\t12.0\t25.0\n",
            "\n",
            "19\t12.0\t12.0\t12.0\t25.0\n",
            "\n"
          ]
        }
      ]
    }
  ]
}